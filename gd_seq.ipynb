{
 "cells": [
  {
   "cell_type": "markdown",
   "metadata": {},
   "source": [
    "# 1.Filter sequences that meet criteria"
   ]
  },
  {
   "cell_type": "markdown",
   "metadata": {},
   "source": [
    "## Filter short sequences[27000-30000]"
   ]
  },
  {
   "cell_type": "code",
   "execution_count": 1,
   "metadata": {},
   "outputs": [
    {
     "name": "stdout",
     "output_type": "stream",
     "text": [
      "file                       format  type  num_seqs      sum_len  min_len   avg_len  max_len\n",
      "0.rawdata/guangdong.fasta  FASTA   DNA      6,193  184,068,678   28,572  29,722.1   29,876\n"
     ]
    }
   ],
   "source": [
    "! seqkit stats 0.rawdata/guangdong.fasta"
   ]
  },
  {
   "cell_type": "code",
   "execution_count": 2,
   "metadata": {},
   "outputs": [
    {
     "name": "stdout",
     "output_type": "stream",
     "text": [
      "6194 0.rawdata/guangdong_metadata.tsv\n"
     ]
    }
   ],
   "source": [
    "! wc -l 0.rawdata/guangdong_metadata.tsv"
   ]
  },
  {
   "cell_type": "code",
   "execution_count": 3,
   "metadata": {},
   "outputs": [
    {
     "name": "stdout",
     "output_type": "stream",
     "text": [
      "2022/10/22\n",
      "2022/10/23\n",
      "2022/10/24\n",
      "2022/10/25\n",
      "2022/10/26\n",
      "2022/10/30\n",
      "2022/10/31\n",
      "2022/11/1\n",
      "2022/11/10\n",
      "2022/11/11\n",
      "2022/11/12\n",
      "2022/11/13\n",
      "2022/11/14\n",
      "2022/11/15\n",
      "2022/11/16\n",
      "2022/11/17\n",
      "2022/11/18\n",
      "2022/11/19\n",
      "2022/11/2\n",
      "2022/11/20\n",
      "2022/11/21\n",
      "2022/11/22\n",
      "2022/11/23\n",
      "2022/11/24\n",
      "2022/11/25\n",
      "2022/11/26\n",
      "2022/11/27\n",
      "2022/11/28\n",
      "2022/11/29\n",
      "2022/11/3\n",
      "2022/11/30\n",
      "2022/11/4\n",
      "2022/11/5\n",
      "2022/11/6\n",
      "2022/11/7\n",
      "2022/11/8\n",
      "2022/11/9\n",
      "2022/12/1\n",
      "2022/12/10\n",
      "2022/12/11\n",
      "2022/12/12\n",
      "2022/12/13\n",
      "2022/12/14\n",
      "2022/12/15\n",
      "2022/12/16\n",
      "2022/12/17\n",
      "2022/12/18\n",
      "2022/12/19\n",
      "2022/12/2\n",
      "2022/12/20\n",
      "2022/12/21\n",
      "2022/12/22\n",
      "2022/12/23\n",
      "2022/12/24\n",
      "2022/12/25\n",
      "2022/12/26\n",
      "2022/12/27\n",
      "2022/12/28\n",
      "2022/12/29\n",
      "2022/12/3\n",
      "2022/12/30\n",
      "2022/12/31\n",
      "2022/12/4\n",
      "2022/12/5\n",
      "2022/12/6\n",
      "2022/12/7\n",
      "2022/12/8\n",
      "2022/12/9\n",
      "2023/1/1\n",
      "2023/1/10\n",
      "2023/1/11\n",
      "2023/1/12\n",
      "2023/1/13\n",
      "2023/1/14\n",
      "2023/1/15\n",
      "2023/1/16\n",
      "2023/1/17\n",
      "2023/1/18\n",
      "2023/1/19\n",
      "2023/1/2\n",
      "2023/1/20\n",
      "2023/1/21\n",
      "2023/1/23\n",
      "2023/1/24\n",
      "2023/1/25\n",
      "2023/1/26\n",
      "2023/1/27\n",
      "2023/1/28\n",
      "2023/1/29\n",
      "2023/1/3\n",
      "2023/1/30\n",
      "2023/1/4\n",
      "2023/1/5\n",
      "2023/1/6\n",
      "2023/1/8\n",
      "2023/1/9\n",
      "2023/2/1\n",
      "2023/2/10\n",
      "2023/2/11\n",
      "2023/2/12\n",
      "2023/2/13\n",
      "2023/2/14\n",
      "2023/2/15\n",
      "2023/2/16\n",
      "2023/2/17\n",
      "2023/2/18\n",
      "2023/2/19\n",
      "2023/2/2\n",
      "2023/2/20\n",
      "2023/2/21\n",
      "2023/2/22\n",
      "2023/2/23\n",
      "2023/2/24\n",
      "2023/2/25\n",
      "2023/2/26\n",
      "2023/2/27\n",
      "2023/2/28\n",
      "2023/2/3\n",
      "2023/2/5\n",
      "2023/2/6\n",
      "2023/2/7\n",
      "2023/2/8\n",
      "2023/2/9\n",
      "2023/3/1\n",
      "2023/3/10\n",
      "2023/3/11\n",
      "2023/3/12\n",
      "2023/3/13\n",
      "2023/3/14\n",
      "2023/3/15\n",
      "2023/3/16\n",
      "2023/3/17\n",
      "2023/3/2\n",
      "2023/3/20\n",
      "2023/3/21\n",
      "2023/3/24\n",
      "2023/3/29\n",
      "2023/3/3\n",
      "2023/3/30\n",
      "2023/3/31\n",
      "2023/3/4\n",
      "2023/3/5\n",
      "2023/3/6\n",
      "2023/3/7\n",
      "2023/3/8\n",
      "2023/3/9\n",
      "2023/4/1\n",
      "2023/4/10\n",
      "2023/4/11\n",
      "2023/4/12\n",
      "2023/4/13\n",
      "2023/4/14\n",
      "2023/4/15\n",
      "2023/4/16\n",
      "2023/4/17\n",
      "2023/4/18\n",
      "2023/4/19\n",
      "2023/4/20\n",
      "2023/4/21\n",
      "2023/4/22\n",
      "2023/4/23\n",
      "2023/4/24\n",
      "2023/4/25\n",
      "2023/4/26\n",
      "2023/4/27\n",
      "2023/4/28\n",
      "2023/4/29\n",
      "2023/4/3\n",
      "2023/4/30\n",
      "2023/4/4\n",
      "2023/4/5\n",
      "2023/4/6\n",
      "2023/4/9\n",
      "2023/5/1\n",
      "2023/5/10\n",
      "2023/5/11\n",
      "2023/5/12\n",
      "2023/5/13\n",
      "2023/5/14\n",
      "2023/5/15\n",
      "2023/5/16\n",
      "2023/5/17\n",
      "2023/5/18\n",
      "2023/5/19\n",
      "2023/5/2\n",
      "2023/5/20\n",
      "2023/5/21\n",
      "2023/5/22\n",
      "2023/5/23\n",
      "2023/5/24\n",
      "2023/5/25\n",
      "2023/5/26\n",
      "2023/5/27\n",
      "2023/5/28\n",
      "2023/5/29\n",
      "2023/5/3\n",
      "2023/5/30\n",
      "2023/5/31\n",
      "2023/5/4\n",
      "2023/5/5\n",
      "2023/5/6\n",
      "2023/5/7\n",
      "2023/5/8\n",
      "2023/5/9\n",
      "2023/6/1\n",
      "2023/6/10\n",
      "2023/6/11\n",
      "2023/6/12\n",
      "2023/6/13\n",
      "2023/6/14\n",
      "2023/6/15\n",
      "2023/6/16\n",
      "2023/6/17\n",
      "2023/6/18\n",
      "2023/6/19\n",
      "2023/6/2\n",
      "2023/6/20\n",
      "2023/6/21\n",
      "2023/6/22\n",
      "2023/6/23\n",
      "2023/6/24\n",
      "2023/6/25\n",
      "2023/6/26\n",
      "2023/6/27\n",
      "2023/6/28\n",
      "2023/6/29\n",
      "2023/6/3\n",
      "2023/6/30\n",
      "2023/6/4\n",
      "2023/6/5\n",
      "2023/6/6\n",
      "2023/6/7\n",
      "2023/6/8\n",
      "2023/6/9\n",
      "2023/7/1\n",
      "2023/7/2\n",
      "2023/7/3\n",
      "2023/7/4\n",
      "2023/7/5\n",
      "date\n"
     ]
    }
   ],
   "source": [
    "# View date range\n",
    "!cut -f 3 0.rawdata/guangdong_metadata.tsv | sort | uniq"
   ]
  },
  {
   "cell_type": "markdown",
   "metadata": {},
   "source": [
    "## Run nextclade pipeline"
   ]
  },
  {
   "cell_type": "code",
   "execution_count": null,
   "metadata": {},
   "outputs": [],
   "source": [
    "! mkdir 2.nextclade\n",
    "! nextclade run --input-dataset /home/qiuming/sars-cov-2-0128update --output-tsv=2.nextclade/guangdong_nextclade.tsv -j 48 0.rawdata/guangdong.fasta"
   ]
  },
  {
   "cell_type": "markdown",
   "metadata": {},
   "source": [
    "## Filter sequences with unqualified quality and private mutations >= 10\n",
    "[10]qc.overallStatus、[54]qc.privateMutations.status、[58]qc.snpClusters.status、[55]qc.totalprivate.number"
   ]
  },
  {
   "cell_type": "code",
   "execution_count": 5,
   "metadata": {},
   "outputs": [
    {
     "name": "stdout",
     "output_type": "stream",
     "text": [
      "380\n"
     ]
    }
   ],
   "source": [
    "# filter bad & private.mutatution.number >= 10\n",
    "count = 0\n",
    "with open('2.nextclade/guangdong_nextclade.tsv', 'r') as file, open('2.nextclade/guangdong_nextclade_bad.tsv', 'w') as f_out_bad, open('2.nextclade/guangdong_nextclade_good.tsv', 'w') as f_out_good:\n",
    "    for line in file:\n",
    "        if line.startswith('index'):\n",
    "            continue\n",
    "        columns = line.split('\\t')\n",
    "        \n",
    "        if columns[9] == 'bad' or columns[53] == 'bad' or columns[57] == 'bad' or (not columns[54]) or (columns[54] and int(columns[54]) >= 10):\n",
    "            count += 1\n",
    "            f_out_bad.write(line)\n",
    "        else:\n",
    "            f_out_good.write(line)\n",
    "\n",
    "print(count)\n"
   ]
  },
  {
   "cell_type": "code",
   "execution_count": 6,
   "metadata": {},
   "outputs": [
    {
     "name": "stdout",
     "output_type": "stream",
     "text": [
      "5813 2.nextclade/guangdong_nextclade_good.tsv\n",
      "good\n",
      "mediocre\n",
      "good\n",
      "good\n",
      "mediocre\n"
     ]
    }
   ],
   "source": [
    "# check\n",
    "! wc -l 2.nextclade/guangdong_nextclade_good.tsv\n",
    "!cut -f 10 2.nextclade/guangdong_nextclade_good.tsv | sort | uniq\n",
    "!cut -f 54 2.nextclade/guangdong_nextclade_good.tsv | sort | uniq\n",
    "!cut -f 58 2.nextclade/guangdong_nextclade_good.tsv | sort | uniq"
   ]
  },
  {
   "cell_type": "markdown",
   "metadata": {},
   "source": [
    "## get sequences.fasta"
   ]
  },
  {
   "cell_type": "code",
   "execution_count": null,
   "metadata": {},
   "outputs": [],
   "source": [
    "! mkdir 3.filter\n",
    "! cut -f 2 2.nextclade/guangdong_nextclade_good.tsv > 3.filter/guangdong_filtered_sequence_name.tsv\n",
    "! seqkit grep -f 3.filter/guangdong_filtered_sequence_name.tsv 0.rawdata/guangdong.fasta > 3.filter/guangdong_filtered_sequence.fasta\n",
    "! seqkit stats 3.filter/guangdong_filtered_sequence.fasta"
   ]
  },
  {
   "cell_type": "markdown",
   "metadata": {},
   "source": [
    "# 2.Randomly select 500 sequences to construct a phylogenetic tree🌲"
   ]
  },
  {
   "cell_type": "code",
   "execution_count": 17,
   "metadata": {},
   "outputs": [],
   "source": [
    "! mkdir 4.random_500\n",
    "! seqkit sample -n 502 -o 4.random_500/guangdong_500.fasta 3.filter/filtered_sequence.fasta\n",
    "! seqkit seq -n 4.random_500/guangdong_500.fasta > 4.random_500/random_500sequence_name.txt"
   ]
  },
  {
   "cell_type": "markdown",
   "metadata": {},
   "source": [
    "## get metadata"
   ]
  },
  {
   "cell_type": "code",
   "execution_count": 23,
   "metadata": {},
   "outputs": [],
   "source": [
    "import pandas as pd\n",
    "\n",
    "seqMeta = pd.read_csv('1.withMetadata/seqMeta.tsv', sep='\\t', header=None)\n",
    "gd_no1row = pd.read_csv('2.nextclade/gd-no1row.tsv', sep='\\t', header=None)\n",
    "\n",
    "for index, row in seqMeta.iterrows():\n",
    "    matching_rows = gd_no1row[gd_no1row[1] == row[0]]\n",
    "    if not matching_rows.empty:\n",
    "        seqMeta.at[index, 10] = matching_rows.iloc[0, 2]\n",
    "        seqMeta.at[index, 11] = matching_rows.iloc[0, 3]\n",
    "\n",
    "seqMeta[[0, 2, 5, 4, 8, 1, 6]].to_csv('1.withMetadata/seqMeta_fix', sep='\\t', index=False, header=False)\n",
    "\n"
   ]
  },
  {
   "cell_type": "code",
   "execution_count": 24,
   "metadata": {},
   "outputs": [],
   "source": [
    "# metadata\n",
    "import pandas as pd\n",
    "\n",
    "seqMeta = pd.read_csv('1.withMetadata/seqMeta_fix', sep='\\t', header=None)\n",
    "random_sequence = pd.read_csv('4.random_500/random_500sequence_name.txt', sep='\\t', header=None)\n",
    "\n",
    "merged_data = pd.merge(seqMeta, random_sequence, left_on=0, right_on=0)\n",
    "merged_data.to_csv('4.random_500/guangdong_500_metadata.tsv', sep='\\t', index=False, header=False)\n"
   ]
  },
  {
   "cell_type": "markdown",
   "metadata": {},
   "source": [
    "# 3.calculate count&frequency"
   ]
  },
  {
   "cell_type": "code",
   "execution_count": null,
   "metadata": {},
   "outputs": [],
   "source": [
    "! mkdir 5.clade\n",
    "import pandas as pd\n",
    "\n",
    "output_good = pd.read_csv('2.nextclade/guangdong_nextclade_good.tsv', sep='\\t', header=None)\n",
    "seqMeta = pd.read_csv('0.rawdata/guangdong_metadata.tsv', sep='\\t', header=None)\n",
    "\n",
    "output = pd.merge(output_good, seqMeta, left_on=1, right_on=0)\n",
    "output = output[[\"0_y\", \"2_y\", \"2_x\", \"3_x\"]]\n",
    "output.to_csv('5.clade/guangdong_clade.tsv', sep='\\t', index=False, header=False)\n"
   ]
  },
  {
   "cell_type": "code",
   "execution_count": 9,
   "metadata": {},
   "outputs": [
    {
     "name": "stdout",
     "output_type": "stream",
     "text": [
      "21L\n",
      "22B\n",
      "22D\n",
      "22E\n",
      "22F\n",
      "23A\n",
      "23B\n",
      "23C\n",
      "23D\n",
      "23E\n",
      "23F\n",
      "23H\n",
      "recombinant\n"
     ]
    }
   ],
   "source": [
    "# view clade distribution\n",
    "!cut -f 3 5.clade/guangdong_clade.tsv | sort | uniq"
   ]
  },
  {
   "cell_type": "markdown",
   "metadata": {},
   "source": [
    "### mark BA.5.2.48/BF.7"
   ]
  },
  {
   "cell_type": "code",
   "execution_count": 10,
   "metadata": {},
   "outputs": [],
   "source": [
    "import pandas as pd\n",
    "df = pd.read_csv('5.clade/guangdong_clade.tsv', sep='\\t', header=None, index_col=None)\n",
    "\n",
    "for index, row in df.iterrows():\n",
    "    if row[2] == '22B':\n",
    "        if row[3].startswith(('DY.1', 'DY.2', 'DY.3', 'DY.4', 'BA.5.2.48', 'DY.1.1')):\n",
    "            df.at[index, 2] = '22B(BA.5.2.48)'\n",
    "        elif row[3].startswith(('BF.7.14', 'BF.7.14.1', 'BF.7.14.2', 'BF.7.14.3', 'BF.7.14.4', 'BF.7.14.5', 'BF.7.14.6')):\n",
    "            df.at[index, 2] = '22B(BF.7)'\n",
    "        else:\n",
    "            df.at[index, 2] = '22B(Other)'\n",
    "df.to_csv(\"5.clade/guangdong_clade_marked.tsv\", sep=\"\\t\", index=None, header=None)\n"
   ]
  },
  {
   "cell_type": "code",
   "execution_count": 11,
   "metadata": {},
   "outputs": [
    {
     "name": "stdout",
     "output_type": "stream",
     "text": [
      "      4 21L\n",
      "   2351 22B(BA.5.2.48)\n",
      "    302 22B(BF.7)\n",
      "      5 22B(Other)\n",
      "     57 22D\n",
      "      1 22E\n",
      "    322 22F\n",
      "    190 23A\n",
      "    790 23B\n",
      "      2 23C\n",
      "   1383 23D\n",
      "     98 23E\n",
      "    295 23F\n",
      "      1 23H\n",
      "     12 recombinant\n"
     ]
    }
   ],
   "source": [
    "! cut -f 3 5.clade/guangdong_clade_marked.tsv | sort | uniq -c"
   ]
  },
  {
   "cell_type": "code",
   "execution_count": 12,
   "metadata": {},
   "outputs": [],
   "source": [
    "import pandas as pd\n",
    "df = pd.read_csv('5.clade/guangdong_clade_marked.tsv', sep='\\t', header=None, index_col=None)\n",
    "\n",
    "############# number ###############\n",
    "# Convert to datetime\n",
    "df[1] = pd.to_datetime(df[1], format='%Y-%m-%d', errors='coerce')\n",
    "df = df[(df[1] >= '2022-10-01') & (df[1] <= '2023-07-31')]\n",
    "\n",
    "# Group by week and clade\n",
    "weekly_clade_counts = df.groupby([pd.Grouper(key=1, freq='W'), 2]).size().unstack(fill_value=0)\n",
    "weekly_clade_counts.to_csv('5.clade/guangdong2_weekly_clade_counts.csv')\n",
    "\n",
    "############ frequency ################\n",
    "weekly_clade_distribution = weekly_clade_counts.div(weekly_clade_counts.sum(axis=1), axis=0)\n",
    "weekly_clade_distribution.to_csv('5.clade/guangdong2_weekly_clade_distribution.csv')"
   ]
  }
 ],
 "metadata": {
  "kernelspec": {
   "display_name": "Python 3",
   "language": "python",
   "name": "python3"
  },
  "language_info": {
   "codemirror_mode": {
    "name": "ipython",
    "version": 3
   },
   "file_extension": ".py",
   "mimetype": "text/x-python",
   "name": "python",
   "nbconvert_exporter": "python",
   "pygments_lexer": "ipython3",
   "version": "3.9.15"
  }
 },
 "nbformat": 4,
 "nbformat_minor": 2
}
