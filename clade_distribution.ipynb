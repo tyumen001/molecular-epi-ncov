{
 "cells": [
  {
   "cell_type": "markdown",
   "metadata": {},
   "source": [
    "# Function:Calculate type distribution [4.nextclade/china_nextclade_good.tsv]"
   ]
  },
  {
   "cell_type": "markdown",
   "metadata": {},
   "source": [
    "## 1.World-clade"
   ]
  },
  {
   "cell_type": "markdown",
   "metadata": {},
   "source": [
    "### extract clade"
   ]
  },
  {
   "cell_type": "code",
   "execution_count": 1,
   "metadata": {},
   "outputs": [],
   "source": [
    "# extract clade\n",
    "! awk -F'\\t' '{print $2 \"\\t\" $3 \"\\t\" $4}' 4.nextclade/world_nextclade_good.tsv > 6.clade/world_clade.tsv"
   ]
  },
  {
   "cell_type": "markdown",
   "metadata": {},
   "source": [
    "### extract date"
   ]
  },
  {
   "cell_type": "code",
   "execution_count": 2,
   "metadata": {},
   "outputs": [
    {
     "name": "stdout",
     "output_type": "stream",
     "text": [
      "0\n"
     ]
    }
   ],
   "source": [
    "# split\n",
    "n = 0\n",
    "with open('6.clade/world_clade.tsv', 'r') as file, open('6.clade/world_clade_updated.tsv', 'w') as f_out:\n",
    "    for line in file:\n",
    "        columns = line.strip().split('\\t')\n",
    "\n",
    "        if len(columns) < 3:\n",
    "            n += 1\n",
    "            continue\n",
    "        collection_date = columns[0].split('|')[1]\n",
    "        f_out.write(columns[0] + '\\t' + collection_date + '\\t' + columns[1] + '\\t' + columns[2] + '\\n')\n",
    "    print(n)\n"
   ]
  },
  {
   "cell_type": "markdown",
   "metadata": {},
   "source": [
    "### mark BA.5.2.48/BF.7"
   ]
  },
  {
   "cell_type": "code",
   "execution_count": 1,
   "metadata": {},
   "outputs": [],
   "source": [
    "import pandas as pd\n",
    "df = pd.read_csv('6.clade/world_clade_updated.tsv', sep='\\t', header=None, index_col=None)\n",
    "\n",
    "for index, row in df.iterrows():\n",
    "    if row[2] == '22B':\n",
    "        if row[3].startswith(('DY.1', 'DY.2', 'DY.3', 'DY.4', 'BA.5.2.48', 'DY.1.1')):\n",
    "            df.at[index, 2] = '22B(BA.5.2.48)'\n",
    "        elif row[3].startswith('BF.7'):\n",
    "            df.at[index, 2] = '22B(BF.7)'\n",
    "        else:\n",
    "            df.at[index, 2] = '22B(Other)'\n",
    "df.to_csv(\"6.clade/world_clade_marked.tsv\", sep=\"\\t\", index=None, header=None)\n"
   ]
  },
  {
   "cell_type": "code",
   "execution_count": 3,
   "metadata": {},
   "outputs": [
    {
     "name": "stdout",
     "output_type": "stream",
     "text": [
      "     25 19A\n",
      "      4 19B\n",
      "      5 20A\n",
      "      9 20B\n",
      "      3 20C\n",
      "      1 20J\n",
      "      6 21J\n",
      "     83 21K\n",
      "   5948 21L\n",
      "  12637 22A\n",
      "    689 22B(BA.5.2.48)\n",
      "  53925 22B(BF.7)\n",
      " 228276 22B(Other)\n",
      "     16 22C\n",
      "  49283 22D\n",
      " 327337 22E\n",
      "  42612 22F\n",
      " 209597 23A\n",
      "  27190 23B\n",
      "  35789 23C\n",
      "  53252 23D\n",
      "  10260 23E\n",
      "   5970 23F\n",
      "    933 23G\n",
      "     15 23H\n",
      "     22 23I\n",
      "  17548 recombinant\n"
     ]
    }
   ],
   "source": [
    "! cut -f 3 6.clade/world_clade_marked.tsv | sort | uniq -c"
   ]
  },
  {
   "cell_type": "markdown",
   "metadata": {},
   "source": [
    "### calculate count&frequeny"
   ]
  },
  {
   "cell_type": "code",
   "execution_count": 4,
   "metadata": {},
   "outputs": [],
   "source": [
    "import pandas as pd\n",
    "df = pd.read_csv('6.clade/world_clade_marked.tsv', sep='\\t', header=None, index_col=None)\n",
    "\n",
    "############# count ###############\n",
    "# Convert to datetime\n",
    "df[1] = pd.to_datetime(df[1], format='%Y-%m-%d', errors='coerce')\n",
    "\n",
    "# Group by week and clade\n",
    "weekly_clade_counts = df.groupby([pd.Grouper(key=1, freq='W'), 2]).size().unstack(fill_value=0)\n",
    "weekly_clade_counts.to_csv('6.clade/world_weekly_clade_counts.csv')\n",
    "\n",
    "############ frequency ################\n",
    "weekly_clade_distribution = weekly_clade_counts.div(weekly_clade_counts.sum(axis=1), axis=0)\n",
    "weekly_clade_distribution.to_csv('6.clade/world_weekly_clade_distribution.csv')"
   ]
  },
  {
   "cell_type": "markdown",
   "metadata": {},
   "source": [
    "## 2.China_clade"
   ]
  },
  {
   "cell_type": "markdown",
   "metadata": {},
   "source": [
    "### extract clade&date"
   ]
  },
  {
   "cell_type": "code",
   "execution_count": 7,
   "metadata": {},
   "outputs": [],
   "source": [
    "# clade data\n",
    "! awk -F'\\t' '{print $2 \"\\t\" $3 \"\\t\" $4}' 4.nextclade/china_nextclade_good.tsv > 6.clade/china_clade.tsv"
   ]
  },
  {
   "cell_type": "markdown",
   "metadata": {},
   "source": [
    "### Delete Cantonese sequences"
   ]
  },
  {
   "cell_type": "code",
   "execution_count": 6,
   "metadata": {},
   "outputs": [
    {
     "name": "stdout",
     "output_type": "stream",
     "text": [
      "4800\n",
      "0\n"
     ]
    }
   ],
   "source": [
    "\n",
    "# split\n",
    "m = 0\n",
    "n = 0\n",
    "with open('6.clade/china_clade.tsv', 'r') as file, open('6.clade/guangdong_clade_updated.tsv', 'w') as gd_out, open('6.clade/china_clade_updated.tsv', 'w') as f_out:\n",
    "    for line in file:\n",
    "        columns = line.strip().split('\\t')\n",
    "        collection_date = columns[0].split('|')[1]\n",
    "\n",
    "        # Delete Cantonese sequences\n",
    "        if columns[0].startswith('hCoV-19/Guangdong'):\n",
    "            m += 1\n",
    "            gd_out.write(columns[0] + '\\t' + collection_date + '\\t' + columns[1] + '\\t' + columns[2] + '\\n')\n",
    "            continue\n",
    "\n",
    "        if len(columns) < 3:\n",
    "            n += 1\n",
    "            continue\n",
    "        \n",
    "        f_out.write(columns[0] + '\\t' + collection_date + '\\t' + columns[1] + '\\t' + columns[2] + '\\n')\n",
    "    print(m)\n",
    "    print(n)"
   ]
  },
  {
   "cell_type": "markdown",
   "metadata": {},
   "source": [
    "### mark BA.5.2.48/BF.7"
   ]
  },
  {
   "cell_type": "code",
   "execution_count": 9,
   "metadata": {},
   "outputs": [],
   "source": [
    "### mark BA.5.2.48/BF.7\n",
    "import pandas as pd\n",
    "df = pd.read_csv('6.clade/china_clade_updated.tsv', sep='\\t', header=None, index_col=None)\n",
    "\n",
    "for index, row in df.iterrows():\n",
    "    if row[2] == '22B':\n",
    "        if row[3].startswith(('DY.1', 'DY.2', 'DY.3', 'DY.4', 'BA.5.2.48', 'DY.1.1')):\n",
    "            df.at[index, 2] = '22B(BA.5.2.48)'\n",
    "        elif row[3].startswith('BF.7'):\n",
    "            df.at[index, 2] = '22B(BF.7)'\n",
    "        else:\n",
    "            df.at[index, 2] = '22B(Other)'\n",
    "df.to_csv(\"6.clade/china_clade_marked.tsv\", sep=\"\\t\", index=None, header=None)\n"
   ]
  },
  {
   "cell_type": "code",
   "execution_count": 10,
   "metadata": {},
   "outputs": [
    {
     "name": "stdout",
     "output_type": "stream",
     "text": [
      "      9 21L\n",
      "      2 22A\n",
      "   9945 22B(BA.5.2.48)\n",
      "   5203 22B(BF.7)\n",
      "   1065 22B(Other)\n",
      "      5 22C\n",
      "    665 22D\n",
      "    188 22E\n",
      "   2616 22F\n",
      "   1350 23A\n",
      "   3485 23B\n",
      "     20 23C\n",
      "   4170 23D\n",
      "    285 23E\n",
      "   3032 23F\n",
      "      4 23G\n",
      "     57 23H\n",
      "     41 recombinant\n"
     ]
    }
   ],
   "source": [
    "! cut -f 3 6.clade/china_clade_marked.tsv | sort | uniq -c"
   ]
  },
  {
   "cell_type": "markdown",
   "metadata": {},
   "source": [
    "### calculate count&frequency"
   ]
  },
  {
   "cell_type": "code",
   "execution_count": 11,
   "metadata": {},
   "outputs": [],
   "source": [
    "\n",
    "import pandas as pd\n",
    "df = pd.read_csv('6.clade/china_clade_marked.tsv', sep='\\t', header=None, index_col=None)\n",
    "\n",
    "############# number ###############\n",
    "# Convert to datetime\n",
    "df[1] = pd.to_datetime(df[1], format='%Y-%m-%d', errors='coerce')\n",
    "\n",
    "# Group by week and clade\n",
    "weekly_clade_counts = df.groupby([pd.Grouper(key=1, freq='W'), 2]).size().unstack(fill_value=0)\n",
    "weekly_clade_counts.to_csv('6.clade/china_weekly_clade_counts.csv')\n",
    "\n",
    "############ frequency ################\n",
    "weekly_clade_distribution = weekly_clade_counts.div(weekly_clade_counts.sum(axis=1), axis=0)\n",
    "weekly_clade_distribution.to_csv('6.clade/china_weekly_clade_distribution.csv')"
   ]
  },
  {
   "cell_type": "markdown",
   "metadata": {},
   "source": [
    "## 3.Guangdong-clade"
   ]
  },
  {
   "cell_type": "markdown",
   "metadata": {},
   "source": [
    "Sequence uploaded to gisaid by Guangdong Province"
   ]
  },
  {
   "cell_type": "markdown",
   "metadata": {},
   "source": [
    "Processing sequences in Guangdong: 9.gd_seq/gd_seq.ipynb"
   ]
  }
 ],
 "metadata": {
  "kernelspec": {
   "display_name": "base",
   "language": "python",
   "name": "python3"
  },
  "language_info": {
   "codemirror_mode": {
    "name": "ipython",
    "version": 3
   },
   "file_extension": ".py",
   "mimetype": "text/x-python",
   "name": "python",
   "nbconvert_exporter": "python",
   "pygments_lexer": "ipython3",
   "version": "3.9.15"
  }
 },
 "nbformat": 4,
 "nbformat_minor": 2
}
