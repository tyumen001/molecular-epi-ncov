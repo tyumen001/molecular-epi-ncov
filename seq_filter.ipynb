{
 "cells": [
  {
   "cell_type": "markdown",
   "metadata": {},
   "source": [
    "# 0.Download sequences from GISAID"
   ]
  },
  {
   "cell_type": "code",
   "execution_count": null,
   "metadata": {},
   "outputs": [],
   "source": [
    "# Download sequences_fasta_2024_01_27.tar.xz and metadata_tsv_2024_01_27.tar.xz from GISAID\n",
    "# Unzip the file---it takes a long time\n",
    "! tar -xvJf 0.rawdata/metadata_tsv_2024_01_27.tar.xz\n",
    "! tar -xvJf 0.rawdata/sequences_fasta_2024_01_27.tar.xz"
   ]
  },
  {
   "cell_type": "markdown",
   "metadata": {},
   "source": [
    "# 1.Filter time range【2022.10.1-2023.7.31】and separate chinese sequences 【China】"
   ]
  },
  {
   "cell_type": "markdown",
   "metadata": {},
   "source": [
    "## short sequences"
   ]
  },
  {
   "cell_type": "code",
   "execution_count": 2,
   "metadata": {},
   "outputs": [
    {
     "name": "stdout",
     "output_type": "stream",
     "text": [
      "\u001b[33m[WARN]\u001b[0m you may switch on flag -g/--remove-gaps to remove spaces\n"
     ]
    }
   ],
   "source": [
    "# Filter short sequences[27000-30000]\n",
    "! seqkit seq -m 27000 -M 30000 -j 30 0.rawdata/sequences.fasta >0.rawdata/seq.fil.fa"
   ]
  },
  {
   "cell_type": "markdown",
   "metadata": {},
   "source": [
    "## filter unmatched date"
   ]
  },
  {
   "cell_type": "code",
   "execution_count": 1,
   "metadata": {},
   "outputs": [],
   "source": [
    "# 1.Remove sequences whose dates do not match\n",
    "# 2.Remove sequences whose date format do not match\n",
    "# 3.Remove chinese sequences\n",
    "\n",
    "! mkdir 2.filter_metadata\n",
    "import re\n",
    "\n",
    "input_file = \"0.rawdata/metadata.tsv\"\n",
    "output_file_date = \"2.filter_metadata/metadata_date_unmatched.tsv\"\n",
    "output_file_china = \"2.filter_metadata/metadata_china_unmatched.tsv\"\n",
    "output_file_final = \"2.filter_metadata/metadata_filter_china_date.tsv\"\n",
    "\n",
    "with open(input_file, 'r') as f_in, open(output_file_china, 'w') as f_out_china, open(output_file_date, 'w') as f_out_date, open(output_file_final, 'w') as f_out_final:\n",
    "    for line in f_in:\n",
    "        columns = line.split('\\t')\n",
    "        match = re.search(r'\\d{4}-\\d{2}-\\d{2}', columns[5]) # format match; date format[yyyy-mm-dd]\n",
    "        if match:\n",
    "            date = match.group(0)\n",
    "            if \"2022-10-01\" <= date <= \"2023-07-31\": # date match; time range[2022.10.22-2023.7.14]\n",
    "                    if \"China\" in columns[6]: # identify chinese seq[China]\n",
    "                        f_out_china.write(line)\n",
    "                    else:\n",
    "                        f_out_final.write(line)\n",
    "            else:\n",
    "                f_out_date.write(line)\n",
    "        else:\n",
    "            f_out_date.write(line)\n"
   ]
  },
  {
   "cell_type": "markdown",
   "metadata": {},
   "source": [
    "# 2.Worldseq 【global seqs】"
   ]
  },
  {
   "cell_type": "markdown",
   "metadata": {},
   "source": [
    "## get seq names"
   ]
  },
  {
   "cell_type": "code",
   "execution_count": 2,
   "metadata": {},
   "outputs": [],
   "source": [
    "# Extract sequence names through metadata\n",
    "\n",
    "input_file = \"2.filter_metadata/metadata_filter_china_date.tsv\"\n",
    "output_seq_name = \"2.filter_metadata/world_seqname.tsv\"\n",
    "\n",
    "with open(input_file, 'r') as f_in, open(output_seq_name, 'w') as f_out_seqname:\n",
    "    for line in f_in:\n",
    "        columns = line.split('\\t')\n",
    "        f_out_seqname.write(columns[0] + \"|\" + columns[5] + \"|\" + columns[17] + \"\\n\")"
   ]
  },
  {
   "cell_type": "code",
   "execution_count": 3,
   "metadata": {},
   "outputs": [
    {
     "name": "stdout",
     "output_type": "stream",
     "text": [
      "1868049 2.filter_metadata/filter_china_date_seqname.tsv\n",
      "2022-10-01\n",
      "2022-10-02\n",
      "2022-10-03\n",
      "2022-10-04\n",
      "2022-10-05\n",
      "2022-10-06\n",
      "2022-10-07\n",
      "2022-10-08\n",
      "2022-10-09\n",
      "2022-10-10\n",
      "2022-10-11\n",
      "2022-10-12\n",
      "2022-10-13\n",
      "2022-10-14\n",
      "2022-10-15\n",
      "2022-10-16\n",
      "2022-10-17\n",
      "2022-10-18\n",
      "2022-10-19\n",
      "2022-10-20\n",
      "2022-10-21\n",
      "2022-10-22\n",
      "2022-10-23\n",
      "2022-10-24\n",
      "2022-10-25\n",
      "2022-10-26\n",
      "2022-10-27\n",
      "2022-10-28\n",
      "2022-10-29\n",
      "2022-10-30\n",
      "2022-10-31\n",
      "2022-11-01\n",
      "2022-11-02\n",
      "2022-11-03\n",
      "2022-11-04\n",
      "2022-11-05\n",
      "2022-11-06\n",
      "2022-11-07\n",
      "2022-11-08\n",
      "2022-11-09\n",
      "2022-11-10\n",
      "2022-11-11\n",
      "2022-11-12\n",
      "2022-11-13\n",
      "2022-11-14\n",
      "2022-11-15\n",
      "2022-11-16\n",
      "2022-11-17\n",
      "2022-11-18\n",
      "2022-11-19\n",
      "2022-11-20\n",
      "2022-11-21\n",
      "2022-11-22\n",
      "2022-11-23\n",
      "2022-11-24\n",
      "2022-11-25\n",
      "2022-11-26\n",
      "2022-11-27\n",
      "2022-11-28\n",
      "2022-11-29\n",
      "2022-11-30\n",
      "2022-12-01\n",
      "2022-12-02\n",
      "2022-12-03\n",
      "2022-12-04\n",
      "2022-12-05\n",
      "2022-12-06\n",
      "2022-12-07\n",
      "2022-12-08\n",
      "2022-12-09\n",
      "2022-12-10\n",
      "2022-12-11\n",
      "2022-12-12\n",
      "2022-12-13\n",
      "2022-12-14\n",
      "2022-12-15\n",
      "2022-12-16\n",
      "2022-12-17\n",
      "2022-12-18\n",
      "2022-12-19\n",
      "2022-12-20\n",
      "2022-12-21\n",
      "2022-12-22\n",
      "2022-12-23\n",
      "2022-12-24\n",
      "2022-12-25\n",
      "2022-12-26\n",
      "2022-12-27\n",
      "2022-12-28\n",
      "2022-12-29\n",
      "2022-12-30\n",
      "2022-12-31\n",
      "2023-01-01\n",
      "2023-01-02\n",
      "2023-01-03\n",
      "2023-01-04\n",
      "2023-01-05\n",
      "2023-01-06\n",
      "2023-01-07\n",
      "2023-01-08\n",
      "2023-01-09\n",
      "2023-01-10\n",
      "2023-01-11\n",
      "2023-01-12\n",
      "2023-01-13\n",
      "2023-01-14\n",
      "2023-01-15\n",
      "2023-01-16\n",
      "2023-01-17\n",
      "2023-01-18\n",
      "2023-01-19\n",
      "2023-01-20\n",
      "2023-01-21\n",
      "2023-01-22\n",
      "2023-01-23\n",
      "2023-01-24\n",
      "2023-01-25\n",
      "2023-01-26\n",
      "2023-01-27\n",
      "2023-01-28\n",
      "2023-01-29\n",
      "2023-01-30\n",
      "2023-01-31\n",
      "2023-02-01\n",
      "2023-02-02\n",
      "2023-02-03\n",
      "2023-02-04\n",
      "2023-02-05\n",
      "2023-02-06\n",
      "2023-02-07\n",
      "2023-02-08\n",
      "2023-02-09\n",
      "2023-02-10\n",
      "2023-02-11\n",
      "2023-02-12\n",
      "2023-02-13\n",
      "2023-02-14\n",
      "2023-02-15\n",
      "2023-02-16\n",
      "2023-02-17\n",
      "2023-02-18\n",
      "2023-02-19\n",
      "2023-02-20\n",
      "2023-02-21\n",
      "2023-02-22\n",
      "2023-02-23\n",
      "2023-02-24\n",
      "2023-02-25\n",
      "2023-02-26\n",
      "2023-02-27\n",
      "2023-02-28\n",
      "2023-03-01\n",
      "2023-03-02\n",
      "2023-03-03\n",
      "2023-03-04\n",
      "2023-03-05\n",
      "2023-03-06\n",
      "2023-03-07\n",
      "2023-03-08\n",
      "2023-03-09\n",
      "2023-03-10\n",
      "2023-03-11\n",
      "2023-03-12\n",
      "2023-03-13\n",
      "2023-03-14\n",
      "2023-03-15\n",
      "2023-03-16\n",
      "2023-03-17\n",
      "2023-03-18\n",
      "2023-03-19\n",
      "2023-03-20\n",
      "2023-03-21\n",
      "2023-03-22\n",
      "2023-03-23\n",
      "2023-03-24\n",
      "2023-03-25\n",
      "2023-03-26\n",
      "2023-03-27\n",
      "2023-03-28\n",
      "2023-03-29\n",
      "2023-03-30\n",
      "2023-03-31\n",
      "2023-04-01\n",
      "2023-04-02\n",
      "2023-04-03\n",
      "2023-04-04\n",
      "2023-04-05\n",
      "2023-04-06\n",
      "2023-04-07\n",
      "2023-04-08\n",
      "2023-04-09\n",
      "2023-04-10\n",
      "2023-04-11\n",
      "2023-04-12\n",
      "2023-04-13\n",
      "2023-04-14\n",
      "2023-04-15\n",
      "2023-04-16\n",
      "2023-04-17\n",
      "2023-04-18\n",
      "2023-04-19\n",
      "2023-04-20\n",
      "2023-04-21\n",
      "2023-04-22\n",
      "2023-04-23\n",
      "2023-04-24\n",
      "2023-04-25\n",
      "2023-04-26\n",
      "2023-04-27\n",
      "2023-04-28\n",
      "2023-04-29\n",
      "2023-04-30\n",
      "2023-05-01\n",
      "2023-05-02\n",
      "2023-05-03\n",
      "2023-05-04\n",
      "2023-05-05\n",
      "2023-05-06\n",
      "2023-05-07\n",
      "2023-05-08\n",
      "2023-05-09\n",
      "2023-05-10\n",
      "2023-05-11\n",
      "2023-05-12\n",
      "2023-05-13\n",
      "2023-05-14\n",
      "2023-05-15\n",
      "2023-05-16\n",
      "2023-05-17\n",
      "2023-05-18\n",
      "2023-05-19\n",
      "2023-05-20\n",
      "2023-05-21\n",
      "2023-05-22\n",
      "2023-05-23\n",
      "2023-05-24\n",
      "2023-05-25\n",
      "2023-05-26\n",
      "2023-05-27\n",
      "2023-05-28\n",
      "2023-05-29\n",
      "2023-05-30\n",
      "2023-05-31\n",
      "2023-06-01\n",
      "2023-06-02\n",
      "2023-06-03\n",
      "2023-06-04\n",
      "2023-06-05\n",
      "2023-06-06\n",
      "2023-06-07\n",
      "2023-06-08\n",
      "2023-06-09\n",
      "2023-06-10\n",
      "2023-06-11\n",
      "2023-06-12\n",
      "2023-06-13\n",
      "2023-06-14\n",
      "2023-06-15\n",
      "2023-06-16\n",
      "2023-06-17\n",
      "2023-06-18\n",
      "2023-06-19\n",
      "2023-06-20\n",
      "2023-06-21\n",
      "2023-06-22\n",
      "2023-06-23\n",
      "2023-06-24\n",
      "2023-06-25\n",
      "2023-06-26\n",
      "2023-06-27\n",
      "2023-06-28\n",
      "2023-06-29\n",
      "2023-06-30\n",
      "2023-07-01\n",
      "2023-07-02\n",
      "2023-07-03\n",
      "2023-07-04\n",
      "2023-07-05\n",
      "2023-07-06\n",
      "2023-07-07\n",
      "2023-07-08\n",
      "2023-07-09\n",
      "2023-07-10\n",
      "2023-07-11\n",
      "2023-07-12\n",
      "2023-07-13\n",
      "2023-07-14\n",
      "2023-07-15\n",
      "2023-07-16\n",
      "2023-07-17\n",
      "2023-07-18\n",
      "2023-07-19\n",
      "2023-07-20\n",
      "2023-07-21\n",
      "2023-07-22\n",
      "2023-07-23\n",
      "2023-07-24\n",
      "2023-07-25\n",
      "2023-07-26\n",
      "2023-07-27\n",
      "2023-07-28\n",
      "2023-07-29\n",
      "2023-07-30\n",
      "2023-07-31\n"
     ]
    }
   ],
   "source": [
    "# stats\n",
    "! wc -l 2.filter_metadata/world_seqname.tsv\n",
    "! cut -f 6 2.filter_metadata/metadata_filter_china_date.tsv | sort | uniq"
   ]
  },
  {
   "cell_type": "markdown",
   "metadata": {},
   "source": [
    "## get sequences.fasta"
   ]
  },
  {
   "cell_type": "code",
   "execution_count": null,
   "metadata": {},
   "outputs": [],
   "source": [
    "! mkdir 3.filter_seq\n",
    "! seqkit grep -f 2.filter_metadata/world_seqname.tsv 0.rawdata/seq.fil.fa > 3.filter_seq/world_seq.fasta"
   ]
  },
  {
   "cell_type": "code",
   "execution_count": 4,
   "metadata": {},
   "outputs": [
    {
     "name": "stdout",
     "output_type": "stream",
     "text": [
      "file                                       format  type   num_seqs         sum_len  min_len  avg_len  max_len\n",
      "3.filter_seq/filter_china_date_seq2.fasta  FASTA   DNA   1,700,278  50,455,779,471   27,047   29,675   29,997\n"
     ]
    }
   ],
   "source": [
    "! seqkit stats 3.filter_seq/world_seq.fasta "
   ]
  },
  {
   "cell_type": "markdown",
   "metadata": {},
   "source": [
    "## Run nextclade pipeline"
   ]
  },
  {
   "cell_type": "code",
   "execution_count": null,
   "metadata": {},
   "outputs": [],
   "source": [
    "# Nextclade\n",
    "! mkdir 4.nextclade\n",
    "import os\n",
    "os.system(\"nohup nextclade run \\\n",
    "          --input-dataset /home/qiuming/sars-cov-2-0128update \\\n",
    "          --output-tsv=4.nextclade/world_nextclade.tsv \\\n",
    "          -j 48 \\\n",
    "          3.filter_seq/world_seq.fasta \\\n",
    "          > nohup.log 2>&1 &\")"
   ]
  },
  {
   "cell_type": "markdown",
   "metadata": {},
   "source": [
    "## filter sequences with unqualified quality and private mutations >= 10"
   ]
  },
  {
   "cell_type": "code",
   "execution_count": 1,
   "metadata": {},
   "outputs": [
    {
     "name": "stdout",
     "output_type": "stream",
     "text": [
      "618843\n"
     ]
    }
   ],
   "source": [
    "# 4.filter bad & private.mutatution.number >= 10\n",
    "count = 0\n",
    "with open('4.nextclade/world_nextclade.tsv', 'r') as file, open('4.nextclade/world_nextclade_bad.tsv', 'w') as f_out_bad, open('4.nextclade/world_nextclade_good.tsv', 'w') as f_out_good:\n",
    "    for line in file:\n",
    "        if line.startswith('index'):\n",
    "            continue\n",
    "        columns = line.split('\\t')\n",
    "        \n",
    "        if columns[9] == 'bad' \\\n",
    "            or columns[53] == 'bad' \\\n",
    "            or columns[57] == 'bad' \\\n",
    "            or (not columns[54]) \\\n",
    "            or (columns[54] and int(columns[54]) >= 10):\n",
    "            count += 1\n",
    "            f_out_bad.write(line)\n",
    "        else:\n",
    "            f_out_good.write(line)\n",
    "\n",
    "print(count)"
   ]
  },
  {
   "cell_type": "code",
   "execution_count": 10,
   "metadata": {},
   "outputs": [
    {
     "name": "stdout",
     "output_type": "stream",
     "text": [
      "1081435 4.nextclade/output_good.tsv\n",
      "     25 19A\n",
      "      4 19B\n",
      "      5 20A\n",
      "      9 20B\n",
      "      3 20C\n",
      "      1 20J\n",
      "      6 21J\n",
      "     83 21K\n",
      "   5948 21L\n",
      "  12637 22A\n",
      " 282890 22B\n",
      "     16 22C\n",
      "  49283 22D\n",
      " 327337 22E\n",
      "  42612 22F\n",
      " 209597 23A\n",
      "  27190 23B\n",
      "  35789 23C\n",
      "  53252 23D\n",
      "  10260 23E\n",
      "   5970 23F\n",
      "    933 23G\n",
      "     15 23H\n",
      "     22 23I\n",
      "  17548 recombinant\n"
     ]
    }
   ],
   "source": [
    "# View clade distribution\n",
    "! wc -l 4.nextclade/world_nextclade_good.tsv\n",
    "! cut -f 6 4.nextclade/world_nextclade_good.tsv | sort | uniq -c"
   ]
  },
  {
   "cell_type": "markdown",
   "metadata": {},
   "source": [
    "## extract final sequences.fasta"
   ]
  },
  {
   "cell_type": "code",
   "execution_count": 11,
   "metadata": {},
   "outputs": [
    {
     "name": "stdout",
     "output_type": "stream",
     "text": [
      "[INFO]\u001b[0m 1078904 patterns loaded from file\n"
     ]
    }
   ],
   "source": [
    "# output_good\n",
    "! cut -f 2 4.nextclade/world_nextclade_good.tsv > 4.nextclade/world_nextclade_good_seqname.tsv\n",
    "! seqkit grep -f 4.nextclade/world_nextclade_good_seqname.tsv 3.filter_seq/world_seq.fasta > 4.nextclade/world_good_seq.fasta"
   ]
  },
  {
   "cell_type": "code",
   "execution_count": 3,
   "metadata": {},
   "outputs": [
    {
     "name": "stdout",
     "output_type": "stream",
     "text": [
      "file                              format  type   num_seqs         sum_len  min_len   avg_len  max_len\n",
      "4.nextclade/world_good_seq.fasta  FASTA   DNA   1,081,435  32,085,632,198   27,264  29,669.5   29,991\n",
      "1081435 4.nextclade/world_nextclade_good_seqname.tsv\n"
     ]
    }
   ],
   "source": [
    "! seqkit stats 4.nextclade/world_good_seq.fasta\n",
    "! wc -l 4.nextclade/world_nextclade_good_seqname.tsv"
   ]
  },
  {
   "cell_type": "markdown",
   "metadata": {},
   "source": [
    "## Randomly select 500 sequences to construct a phylogenetic tree🌲"
   ]
  },
  {
   "cell_type": "code",
   "execution_count": null,
   "metadata": {},
   "outputs": [],
   "source": [
    "# Randomly select 500 sequences\n",
    "! mkdir 5.random_500\n",
    "! seqkit sample -n 500 -o 5.random_500/world_500.fasta 4.nextclade/world_good_seq.fasta\n",
    "! seqkit seq -n 5.random_500/world_500.fasta > 5.random_500/world_500_random_500sequence_name.tsv"
   ]
  },
  {
   "cell_type": "code",
   "execution_count": 17,
   "metadata": {},
   "outputs": [],
   "source": [
    "# acquire metadata\n",
    "! awk -F'\\t' '{print $1 \"\\t\" $5 \"\\t\" $6 \"\\t\" $7}' 2.filter_metadata/metadata_filter_china_date.tsv > 2.filter_metadata/metadata_filter_china_date_clade.tsv\n"
   ]
  },
  {
   "cell_type": "code",
   "execution_count": 2,
   "metadata": {},
   "outputs": [],
   "source": [
    "# output-good : run nextclade\n",
    "! nextclade run \\\n",
    "    --input-dataset /home/qiuming/sars-cov-2-0128update \\\n",
    "    --output-tsv=5.random_500/world_500_nextclade.tsv \\\n",
    "    -j 48 \\\n",
    "    5.random_500/world_500.fasta"
   ]
  },
  {
   "cell_type": "code",
   "execution_count": 19,
   "metadata": {},
   "outputs": [],
   "source": [
    "# modify seq names\n",
    "! awk -F'\\t' '{print $2 \"\\t\" $3 \"\\t\" $4}' 5.random_500/world_500_nextclade.tsv > 5.random_500/world_500_clade.tsv\n",
    "\n",
    "with open('5.random_500/world_500_clade.tsv', 'r') as file, open('5.random_500/world_500_clade_match.tsv', 'w') as f_out:\n",
    "    for line in file:\n",
    "        columns = line.strip().split('\\t')\n",
    "        accession = columns[0].split('|')[0]\n",
    "        columns.insert(0, accession)\n",
    "        \n",
    "        f_out.write('\\t'.join(columns) + '\\n')"
   ]
  },
  {
   "cell_type": "code",
   "execution_count": 20,
   "metadata": {},
   "outputs": [],
   "source": [
    "# extract metadata\n",
    "import pandas as pd\n",
    "\n",
    "seqMeta = pd.read_csv('2.filter_metadata/metadata_filter_china_date_clade.tsv', sep='\\t', header=None)\n",
    "random_sequence = pd.read_csv('5.random_500/world_500_clade_match.tsv', sep='\\t', header=None)\n",
    "\n",
    "merged_data = pd.merge(random_sequence, seqMeta, left_on=0, right_on=0)\n",
    "merged_data.to_csv('5.random_500/world_500_metadata.tsv', sep='\\t', index=False, header=False)\n"
   ]
  },
  {
   "cell_type": "markdown",
   "metadata": {},
   "source": [
    "# 3.ChinaSeq【chinese seqs】"
   ]
  },
  {
   "cell_type": "markdown",
   "metadata": {},
   "source": [
    "## get seq names"
   ]
  },
  {
   "cell_type": "code",
   "execution_count": 1,
   "metadata": {},
   "outputs": [],
   "source": [
    "# extract seq_names\n",
    "\n",
    "input_file = \"2.filter_metadata/metadata_china_unmatched.tsv\"\n",
    "output_seq_name = \"2.filter_metadata/china_seqname.tsv\"\n",
    "\n",
    "with open(input_file, 'r') as f_in, open(output_seq_name, 'w') as f_out_seqname:\n",
    "    for line in f_in:\n",
    "        columns = line.split('\\t')\n",
    "        f_out_seqname.write(columns[0] + \"|\" + columns[5] + \"|\" + columns[17] + \"\\n\")"
   ]
  },
  {
   "cell_type": "markdown",
   "metadata": {},
   "source": [
    "## get sequences.fasta"
   ]
  },
  {
   "cell_type": "code",
   "execution_count": null,
   "metadata": {},
   "outputs": [],
   "source": [
    "! mkdir 3.filter_seq\n",
    "! seqkit grep -f 2.filter_metadata/china_seqname.tsv 0.rawdata/seq.fil.fa > 3.filter_seq/china_seq.fasta"
   ]
  },
  {
   "cell_type": "code",
   "execution_count": 3,
   "metadata": {},
   "outputs": [
    {
     "name": "stdout",
     "output_type": "stream",
     "text": [
      "file                          format  type  num_seqs        sum_len  min_len   avg_len  max_len\n",
      "3.filter_seq/china_seq.fasta  FASTA   DNA     49,007  1,457,788,124   28,485  29,746.5   29,932\n"
     ]
    }
   ],
   "source": [
    "# stats\n",
    "! seqkit stats 3filter_seq/china_seq.fasta"
   ]
  },
  {
   "cell_type": "markdown",
   "metadata": {},
   "source": [
    "## Run nextclade pipeline"
   ]
  },
  {
   "cell_type": "code",
   "execution_count": null,
   "metadata": {},
   "outputs": [],
   "source": [
    "# nextclade\n",
    "! mkdir 4.nextclade\n",
    "import os\n",
    "os.system(\"nohup nextclade run \\\n",
    "        --input-dataset /home/qiuming/sars-cov-2-0128update \\\n",
    "        --output-tsv=4.nextclade/china_nextclade.tsv \\\n",
    "        -j 48 \\\n",
    "        3.filter_seq/china_seq.fasta \\\n",
    "        > nohup.log 2>&1 &\")"
   ]
  },
  {
   "cell_type": "markdown",
   "metadata": {},
   "source": [
    "## Filter sequences with unqualified quality and private mutations >= 10"
   ]
  },
  {
   "cell_type": "code",
   "execution_count": 5,
   "metadata": {},
   "outputs": [
    {
     "name": "stdout",
     "output_type": "stream",
     "text": [
      "12065\n"
     ]
    }
   ],
   "source": [
    "# filter bad & private.mutatution.number >= 10\n",
    "count = 0\n",
    "with open('4.nextclade/china_nextclade.tsv', 'r') as file, open('4.nextclade/china_nextclade_bad.tsv', 'w') as f_out_bad, open('4.nextclade/china_nextclade_good.tsv', 'w') as f_out_good:\n",
    "    for line in file:\n",
    "        if line.startswith('index'):\n",
    "            continue\n",
    "        columns = line.split('\\t')\n",
    "        \n",
    "        if columns[9] == 'bad' \\\n",
    "            or columns[53] == 'bad' \\\n",
    "            or columns[57] == 'bad' \\\n",
    "            or (not columns[54]) or (columns[54] and int(columns[54]) >= 10):\n",
    "            count += 1\n",
    "            f_out_bad.write(line)\n",
    "        else:\n",
    "            f_out_good.write(line)\n",
    "\n",
    "print(count)"
   ]
  },
  {
   "cell_type": "code",
   "execution_count": 7,
   "metadata": {},
   "outputs": [
    {
     "name": "stdout",
     "output_type": "stream",
     "text": [
      "36942 4.nextclade/china_nextclade_good.tsv\n",
      "     17 21L\n",
      "      3 22A\n",
      "  17613 22B\n",
      "      5 22C\n",
      "    761 22D\n",
      "    190 22E\n",
      "   2958 22F\n",
      "   1563 23A\n",
      "   4319 23B\n",
      "     24 23C\n",
      "   5640 23D\n",
      "    392 23E\n",
      "   3332 23F\n",
      "      4 23G\n",
      "     58 23H\n",
      "     63 recombinant\n"
     ]
    }
   ],
   "source": [
    "## View clade distribution\n",
    "! wc -l 4.nextclade/china_nextclade_good.tsv\n",
    "! cut -f 6 4.nextclade/china_nextclade_good.tsv | sort | uniq -c"
   ]
  },
  {
   "cell_type": "markdown",
   "metadata": {},
   "source": [
    "## extract final sequences.fasta"
   ]
  },
  {
   "cell_type": "code",
   "execution_count": 9,
   "metadata": {},
   "outputs": [
    {
     "name": "stdout",
     "output_type": "stream",
     "text": [
      "[INFO]\u001b[0m 36942 patterns loaded from file\n"
     ]
    }
   ],
   "source": [
    "# 提final sequences\n",
    "! cut -f 2 4.nextclade/china_nextclade_good.tsv > 4.nextclade/china_nextclade_good_seqname.tsv\n",
    "! seqkit grep -f 4.nextclade/china_nextclade_good_seqname.tsv 3.filter_seq/china_seq.fasta > 4.nextclade/china_good_seq.fasta"
   ]
  },
  {
   "cell_type": "code",
   "execution_count": 4,
   "metadata": {},
   "outputs": [
    {
     "name": "stdout",
     "output_type": "stream",
     "text": [
      "file                              format  type  num_seqs        sum_len  min_len   avg_len  max_len\n",
      "4.nextclade/china_good_seq.fasta  FASTA   DNA     36,942  1,098,715,052   28,536  29,741.6   29,921\n",
      "36942 4.nextclade/china_nextclade_good_seqname.tsv\n"
     ]
    }
   ],
   "source": [
    "! seqkit stats 4.nextclade/china_good_seq.fasta\n",
    "! wc -l 4.nextclade/china_nextclade_good_seqname.tsv"
   ]
  }
 ],
 "metadata": {
  "kernelspec": {
   "display_name": "base",
   "language": "python",
   "name": "python3"
  },
  "language_info": {
   "codemirror_mode": {
    "name": "ipython",
    "version": 3
   },
   "file_extension": ".py",
   "mimetype": "text/x-python",
   "name": "python",
   "nbconvert_exporter": "python",
   "pygments_lexer": "ipython3",
   "version": "3.9.15"
  }
 },
 "nbformat": 4,
 "nbformat_minor": 2
}
